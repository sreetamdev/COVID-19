{
 "cells": [
  {
   "cell_type": "markdown",
   "metadata": {},
   "source": [
    "# C3.AI Covid Challenge\n",
    "## _Data Science Project \n",
    "### Author: \n",
    "\n",
    "##### Team BUK\n",
    "    - Vrisha Parekh (https://www.linkedin.com/in/vrisha-parekh-72a630131/)\n",
    "    - Sreetam Dev (https://www.linkedin.com/in/sreetam-dev-b76530143/)"
   ]
  },
  {
   "cell_type": "markdown",
   "metadata": {},
   "source": [
    "### Dataset"
   ]
  },
  {
   "cell_type": "markdown",
   "metadata": {},
   "source": [
    "The two datasets involved in this analysis are the timeseries data from Corona Data Scrapper and Covid-19 Dat Hub. "
   ]
  },
  {
   "cell_type": "markdown",
   "metadata": {},
   "source": [
    "### Associated tasks\n",
    "=========================================\n",
    "\n",
    "Analyse and generate insights from the Corona Data Scrapper data and data from COVID-19 data hub by fetching the dataset from the C3.AI COVID-19 datalake."
   ]
  },
  {
   "cell_type": "markdown",
   "metadata": {},
   "source": [
    "### Table of Contents\n",
    "\n",
    "\n",
    "- **1.  Loading libraries**\n",
    "\n",
    "- **2.  Exploring the data**\n",
    "\n",
    "    - *2.1  Setting DateTimeIndex*\n",
    "   \n",
    "- **3.Loading the data from Covid-19 Data Hub**\n",
    "    - 3.1 Setting DateTime index\n",
    "\n",
    "\n"
   ]
  },
  {
   "cell_type": "markdown",
   "metadata": {},
   "source": [
    "#### 1. Loading Libraries"
   ]
  },
  {
   "cell_type": "code",
   "execution_count": 28,
   "metadata": {},
   "outputs": [],
   "source": [
    "import requests\n",
    "import pandas as pd\n",
    "from matplotlib import pyplot as plt\n",
    "from scipy.stats import gamma\n",
    "import numpy as np\n",
    "import datetime\n",
    "import c3aidatalake"
   ]
  },
  {
   "cell_type": "markdown",
   "metadata": {},
   "source": [
    "#### 2. Exploring the data"
   ]
  },
  {
   "cell_type": "code",
   "execution_count": 29,
   "metadata": {},
   "outputs": [
    {
     "data": {
      "text/html": [
       "<div>\n",
       "<style scoped>\n",
       "    .dataframe tbody tr th:only-of-type {\n",
       "        vertical-align: middle;\n",
       "    }\n",
       "\n",
       "    .dataframe tbody tr th {\n",
       "        vertical-align: top;\n",
       "    }\n",
       "\n",
       "    .dataframe thead th {\n",
       "        text-align: right;\n",
       "    }\n",
       "</style>\n",
       "<table border=\"1\" class=\"dataframe\">\n",
       "  <thead>\n",
       "    <tr style=\"text-align: right;\">\n",
       "      <th></th>\n",
       "      <th>locationID</th>\n",
       "      <th>slug</th>\n",
       "      <th>name</th>\n",
       "      <th>level</th>\n",
       "      <th>city</th>\n",
       "      <th>county</th>\n",
       "      <th>state</th>\n",
       "      <th>country</th>\n",
       "      <th>lat</th>\n",
       "      <th>long</th>\n",
       "      <th>...</th>\n",
       "      <th>deaths</th>\n",
       "      <th>recovered</th>\n",
       "      <th>active</th>\n",
       "      <th>tested</th>\n",
       "      <th>hospitalized</th>\n",
       "      <th>hospitalized_current</th>\n",
       "      <th>discharged</th>\n",
       "      <th>icu</th>\n",
       "      <th>icu_current</th>\n",
       "      <th>date</th>\n",
       "    </tr>\n",
       "  </thead>\n",
       "  <tbody>\n",
       "    <tr>\n",
       "      <th>0</th>\n",
       "      <td>iso1:ad</td>\n",
       "      <td>ad</td>\n",
       "      <td>Andorra</td>\n",
       "      <td>country</td>\n",
       "      <td>NaN</td>\n",
       "      <td>NaN</td>\n",
       "      <td>NaN</td>\n",
       "      <td>Andorra</td>\n",
       "      <td>42.55</td>\n",
       "      <td>1.58</td>\n",
       "      <td>...</td>\n",
       "      <td>0.0</td>\n",
       "      <td>0.0</td>\n",
       "      <td>NaN</td>\n",
       "      <td>NaN</td>\n",
       "      <td>NaN</td>\n",
       "      <td>NaN</td>\n",
       "      <td>NaN</td>\n",
       "      <td>NaN</td>\n",
       "      <td>NaN</td>\n",
       "      <td>2020-01-22</td>\n",
       "    </tr>\n",
       "    <tr>\n",
       "      <th>1</th>\n",
       "      <td>iso1:ad</td>\n",
       "      <td>ad</td>\n",
       "      <td>Andorra</td>\n",
       "      <td>country</td>\n",
       "      <td>NaN</td>\n",
       "      <td>NaN</td>\n",
       "      <td>NaN</td>\n",
       "      <td>Andorra</td>\n",
       "      <td>42.55</td>\n",
       "      <td>1.58</td>\n",
       "      <td>...</td>\n",
       "      <td>0.0</td>\n",
       "      <td>0.0</td>\n",
       "      <td>NaN</td>\n",
       "      <td>NaN</td>\n",
       "      <td>NaN</td>\n",
       "      <td>NaN</td>\n",
       "      <td>NaN</td>\n",
       "      <td>NaN</td>\n",
       "      <td>NaN</td>\n",
       "      <td>2020-01-23</td>\n",
       "    </tr>\n",
       "    <tr>\n",
       "      <th>2</th>\n",
       "      <td>iso1:ad</td>\n",
       "      <td>ad</td>\n",
       "      <td>Andorra</td>\n",
       "      <td>country</td>\n",
       "      <td>NaN</td>\n",
       "      <td>NaN</td>\n",
       "      <td>NaN</td>\n",
       "      <td>Andorra</td>\n",
       "      <td>42.55</td>\n",
       "      <td>1.58</td>\n",
       "      <td>...</td>\n",
       "      <td>0.0</td>\n",
       "      <td>0.0</td>\n",
       "      <td>NaN</td>\n",
       "      <td>NaN</td>\n",
       "      <td>NaN</td>\n",
       "      <td>NaN</td>\n",
       "      <td>NaN</td>\n",
       "      <td>NaN</td>\n",
       "      <td>NaN</td>\n",
       "      <td>2020-01-24</td>\n",
       "    </tr>\n",
       "    <tr>\n",
       "      <th>3</th>\n",
       "      <td>iso1:ad</td>\n",
       "      <td>ad</td>\n",
       "      <td>Andorra</td>\n",
       "      <td>country</td>\n",
       "      <td>NaN</td>\n",
       "      <td>NaN</td>\n",
       "      <td>NaN</td>\n",
       "      <td>Andorra</td>\n",
       "      <td>42.55</td>\n",
       "      <td>1.58</td>\n",
       "      <td>...</td>\n",
       "      <td>0.0</td>\n",
       "      <td>0.0</td>\n",
       "      <td>NaN</td>\n",
       "      <td>NaN</td>\n",
       "      <td>NaN</td>\n",
       "      <td>NaN</td>\n",
       "      <td>NaN</td>\n",
       "      <td>NaN</td>\n",
       "      <td>NaN</td>\n",
       "      <td>2020-01-25</td>\n",
       "    </tr>\n",
       "    <tr>\n",
       "      <th>4</th>\n",
       "      <td>iso1:ad</td>\n",
       "      <td>ad</td>\n",
       "      <td>Andorra</td>\n",
       "      <td>country</td>\n",
       "      <td>NaN</td>\n",
       "      <td>NaN</td>\n",
       "      <td>NaN</td>\n",
       "      <td>Andorra</td>\n",
       "      <td>42.55</td>\n",
       "      <td>1.58</td>\n",
       "      <td>...</td>\n",
       "      <td>0.0</td>\n",
       "      <td>0.0</td>\n",
       "      <td>NaN</td>\n",
       "      <td>NaN</td>\n",
       "      <td>NaN</td>\n",
       "      <td>NaN</td>\n",
       "      <td>NaN</td>\n",
       "      <td>NaN</td>\n",
       "      <td>NaN</td>\n",
       "      <td>2020-01-26</td>\n",
       "    </tr>\n",
       "  </tbody>\n",
       "</table>\n",
       "<p>5 rows × 24 columns</p>\n",
       "</div>"
      ],
      "text/plain": [
       "  locationID slug     name    level  city county state  country    lat  long  \\\n",
       "0    iso1:ad   ad  Andorra  country   NaN    NaN   NaN  Andorra  42.55  1.58   \n",
       "1    iso1:ad   ad  Andorra  country   NaN    NaN   NaN  Andorra  42.55  1.58   \n",
       "2    iso1:ad   ad  Andorra  country   NaN    NaN   NaN  Andorra  42.55  1.58   \n",
       "3    iso1:ad   ad  Andorra  country   NaN    NaN   NaN  Andorra  42.55  1.58   \n",
       "4    iso1:ad   ad  Andorra  country   NaN    NaN   NaN  Andorra  42.55  1.58   \n",
       "\n",
       "   ...  deaths  recovered active  tested  hospitalized  hospitalized_current  \\\n",
       "0  ...     0.0        0.0    NaN     NaN           NaN                   NaN   \n",
       "1  ...     0.0        0.0    NaN     NaN           NaN                   NaN   \n",
       "2  ...     0.0        0.0    NaN     NaN           NaN                   NaN   \n",
       "3  ...     0.0        0.0    NaN     NaN           NaN                   NaN   \n",
       "4  ...     0.0        0.0    NaN     NaN           NaN                   NaN   \n",
       "\n",
       "   discharged  icu  icu_current        date  \n",
       "0         NaN  NaN          NaN  2020-01-22  \n",
       "1         NaN  NaN          NaN  2020-01-23  \n",
       "2         NaN  NaN          NaN  2020-01-24  \n",
       "3         NaN  NaN          NaN  2020-01-25  \n",
       "4         NaN  NaN          NaN  2020-01-26  \n",
       "\n",
       "[5 rows x 24 columns]"
      ]
     },
     "execution_count": 29,
     "metadata": {},
     "output_type": "execute_result"
    }
   ],
   "source": [
    "#Loading the timeseries data from Corona Data Scrapper, https://coronadatascraper.com/#home\n",
    "tsData=pd.read_csv('timeseries.csv',low_memory=False)\n",
    "tsData.head()"
   ]
  },
  {
   "cell_type": "code",
   "execution_count": 30,
   "metadata": {},
   "outputs": [
    {
     "data": {
      "text/plain": [
       "(1089472, 24)"
      ]
     },
     "execution_count": 30,
     "metadata": {},
     "output_type": "execute_result"
    }
   ],
   "source": [
    "#Shape of the data\n",
    "tsData.shape"
   ]
  },
  {
   "cell_type": "code",
   "execution_count": 31,
   "metadata": {},
   "outputs": [
    {
     "data": {
      "text/plain": [
       "locationID               object\n",
       "slug                     object\n",
       "name                     object\n",
       "level                    object\n",
       "city                    float64\n",
       "county                   object\n",
       "state                    object\n",
       "country                  object\n",
       "lat                     float64\n",
       "long                    float64\n",
       "population                int64\n",
       "aggregate               float64\n",
       "tz                       object\n",
       "cases                   float64\n",
       "deaths                  float64\n",
       "recovered               float64\n",
       "active                  float64\n",
       "tested                  float64\n",
       "hospitalized            float64\n",
       "hospitalized_current    float64\n",
       "discharged              float64\n",
       "icu                     float64\n",
       "icu_current             float64\n",
       "date                     object\n",
       "dtype: object"
      ]
     },
     "execution_count": 31,
     "metadata": {},
     "output_type": "execute_result"
    }
   ],
   "source": [
    "# Viewing the data types\n",
    "tsData.dtypes"
   ]
  },
  {
   "cell_type": "code",
   "execution_count": 32,
   "metadata": {},
   "outputs": [
    {
     "data": {
      "text/html": [
       "<div>\n",
       "<style scoped>\n",
       "    .dataframe tbody tr th:only-of-type {\n",
       "        vertical-align: middle;\n",
       "    }\n",
       "\n",
       "    .dataframe tbody tr th {\n",
       "        vertical-align: top;\n",
       "    }\n",
       "\n",
       "    .dataframe thead th {\n",
       "        text-align: right;\n",
       "    }\n",
       "</style>\n",
       "<table border=\"1\" class=\"dataframe\">\n",
       "  <thead>\n",
       "    <tr style=\"text-align: right;\">\n",
       "      <th></th>\n",
       "      <th>city</th>\n",
       "      <th>lat</th>\n",
       "      <th>long</th>\n",
       "      <th>population</th>\n",
       "      <th>aggregate</th>\n",
       "      <th>cases</th>\n",
       "      <th>deaths</th>\n",
       "      <th>recovered</th>\n",
       "      <th>active</th>\n",
       "      <th>tested</th>\n",
       "      <th>hospitalized</th>\n",
       "      <th>hospitalized_current</th>\n",
       "      <th>discharged</th>\n",
       "      <th>icu</th>\n",
       "      <th>icu_current</th>\n",
       "    </tr>\n",
       "  </thead>\n",
       "  <tbody>\n",
       "    <tr>\n",
       "      <th>count</th>\n",
       "      <td>0.0</td>\n",
       "      <td>1.089472e+06</td>\n",
       "      <td>1.089472e+06</td>\n",
       "      <td>1.089472e+06</td>\n",
       "      <td>0.0</td>\n",
       "      <td>1.056093e+06</td>\n",
       "      <td>991731.000000</td>\n",
       "      <td>1.635290e+05</td>\n",
       "      <td>1.891600e+04</td>\n",
       "      <td>1.197890e+05</td>\n",
       "      <td>84434.000000</td>\n",
       "      <td>24468.000000</td>\n",
       "      <td>23993.000000</td>\n",
       "      <td>4091.00000</td>\n",
       "      <td>7641.000000</td>\n",
       "    </tr>\n",
       "    <tr>\n",
       "      <th>mean</th>\n",
       "      <td>NaN</td>\n",
       "      <td>3.725291e+01</td>\n",
       "      <td>-6.717616e+01</td>\n",
       "      <td>3.491560e+06</td>\n",
       "      <td>NaN</td>\n",
       "      <td>4.647560e+03</td>\n",
       "      <td>193.180072</td>\n",
       "      <td>1.263751e+04</td>\n",
       "      <td>6.108950e+03</td>\n",
       "      <td>1.545152e+05</td>\n",
       "      <td>1602.166994</td>\n",
       "      <td>612.367133</td>\n",
       "      <td>1585.846247</td>\n",
       "      <td>1119.74065</td>\n",
       "      <td>376.035859</td>\n",
       "    </tr>\n",
       "    <tr>\n",
       "      <th>std</th>\n",
       "      <td>NaN</td>\n",
       "      <td>1.156727e+01</td>\n",
       "      <td>5.424743e+01</td>\n",
       "      <td>3.454774e+07</td>\n",
       "      <td>NaN</td>\n",
       "      <td>7.789622e+04</td>\n",
       "      <td>2653.600975</td>\n",
       "      <td>1.141283e+05</td>\n",
       "      <td>4.871407e+04</td>\n",
       "      <td>1.622972e+06</td>\n",
       "      <td>12681.769974</td>\n",
       "      <td>3784.415190</td>\n",
       "      <td>5639.696090</td>\n",
       "      <td>2452.77432</td>\n",
       "      <td>1382.645440</td>\n",
       "    </tr>\n",
       "    <tr>\n",
       "      <th>min</th>\n",
       "      <td>NaN</td>\n",
       "      <td>-4.358000e+01</td>\n",
       "      <td>-1.703700e+02</td>\n",
       "      <td>8.600000e+01</td>\n",
       "      <td>NaN</td>\n",
       "      <td>0.000000e+00</td>\n",
       "      <td>0.000000</td>\n",
       "      <td>-9.730000e+02</td>\n",
       "      <td>-2.000000e+00</td>\n",
       "      <td>0.000000e+00</td>\n",
       "      <td>-1.000000</td>\n",
       "      <td>0.000000</td>\n",
       "      <td>0.000000</td>\n",
       "      <td>0.00000</td>\n",
       "      <td>0.000000</td>\n",
       "    </tr>\n",
       "    <tr>\n",
       "      <th>25%</th>\n",
       "      <td>NaN</td>\n",
       "      <td>3.378000e+01</td>\n",
       "      <td>-9.618000e+01</td>\n",
       "      <td>1.220700e+04</td>\n",
       "      <td>NaN</td>\n",
       "      <td>1.000000e+00</td>\n",
       "      <td>0.000000</td>\n",
       "      <td>1.700000e+01</td>\n",
       "      <td>7.000000e+00</td>\n",
       "      <td>1.109000e+03</td>\n",
       "      <td>8.000000</td>\n",
       "      <td>2.000000</td>\n",
       "      <td>112.000000</td>\n",
       "      <td>97.00000</td>\n",
       "      <td>14.000000</td>\n",
       "    </tr>\n",
       "    <tr>\n",
       "      <th>50%</th>\n",
       "      <td>NaN</td>\n",
       "      <td>3.861000e+01</td>\n",
       "      <td>-8.570000e+01</td>\n",
       "      <td>3.656500e+04</td>\n",
       "      <td>NaN</td>\n",
       "      <td>3.100000e+01</td>\n",
       "      <td>0.000000</td>\n",
       "      <td>1.680000e+02</td>\n",
       "      <td>5.500000e+01</td>\n",
       "      <td>4.753000e+03</td>\n",
       "      <td>40.000000</td>\n",
       "      <td>22.000000</td>\n",
       "      <td>327.000000</td>\n",
       "      <td>346.00000</td>\n",
       "      <td>67.000000</td>\n",
       "    </tr>\n",
       "    <tr>\n",
       "      <th>75%</th>\n",
       "      <td>NaN</td>\n",
       "      <td>4.345000e+01</td>\n",
       "      <td>-7.377000e+01</td>\n",
       "      <td>2.350990e+05</td>\n",
       "      <td>NaN</td>\n",
       "      <td>3.340000e+02</td>\n",
       "      <td>9.000000</td>\n",
       "      <td>1.389000e+03</td>\n",
       "      <td>4.780000e+02</td>\n",
       "      <td>2.634000e+04</td>\n",
       "      <td>262.000000</td>\n",
       "      <td>205.000000</td>\n",
       "      <td>1092.000000</td>\n",
       "      <td>971.00000</td>\n",
       "      <td>209.000000</td>\n",
       "    </tr>\n",
       "    <tr>\n",
       "      <th>max</th>\n",
       "      <td>NaN</td>\n",
       "      <td>7.475000e+01</td>\n",
       "      <td>1.768200e+02</td>\n",
       "      <td>1.409517e+09</td>\n",
       "      <td>NaN</td>\n",
       "      <td>7.436919e+06</td>\n",
       "      <td>209984.000000</td>\n",
       "      <td>5.586703e+06</td>\n",
       "      <td>1.017754e+06</td>\n",
       "      <td>8.394907e+07</td>\n",
       "      <td>381926.000000</td>\n",
       "      <td>59940.000000</td>\n",
       "      <td>81788.000000</td>\n",
       "      <td>18322.00000</td>\n",
       "      <td>15130.000000</td>\n",
       "    </tr>\n",
       "  </tbody>\n",
       "</table>\n",
       "</div>"
      ],
      "text/plain": [
       "       city           lat          long    population  aggregate  \\\n",
       "count   0.0  1.089472e+06  1.089472e+06  1.089472e+06        0.0   \n",
       "mean    NaN  3.725291e+01 -6.717616e+01  3.491560e+06        NaN   \n",
       "std     NaN  1.156727e+01  5.424743e+01  3.454774e+07        NaN   \n",
       "min     NaN -4.358000e+01 -1.703700e+02  8.600000e+01        NaN   \n",
       "25%     NaN  3.378000e+01 -9.618000e+01  1.220700e+04        NaN   \n",
       "50%     NaN  3.861000e+01 -8.570000e+01  3.656500e+04        NaN   \n",
       "75%     NaN  4.345000e+01 -7.377000e+01  2.350990e+05        NaN   \n",
       "max     NaN  7.475000e+01  1.768200e+02  1.409517e+09        NaN   \n",
       "\n",
       "              cases         deaths     recovered        active        tested  \\\n",
       "count  1.056093e+06  991731.000000  1.635290e+05  1.891600e+04  1.197890e+05   \n",
       "mean   4.647560e+03     193.180072  1.263751e+04  6.108950e+03  1.545152e+05   \n",
       "std    7.789622e+04    2653.600975  1.141283e+05  4.871407e+04  1.622972e+06   \n",
       "min    0.000000e+00       0.000000 -9.730000e+02 -2.000000e+00  0.000000e+00   \n",
       "25%    1.000000e+00       0.000000  1.700000e+01  7.000000e+00  1.109000e+03   \n",
       "50%    3.100000e+01       0.000000  1.680000e+02  5.500000e+01  4.753000e+03   \n",
       "75%    3.340000e+02       9.000000  1.389000e+03  4.780000e+02  2.634000e+04   \n",
       "max    7.436919e+06  209984.000000  5.586703e+06  1.017754e+06  8.394907e+07   \n",
       "\n",
       "        hospitalized  hospitalized_current    discharged          icu  \\\n",
       "count   84434.000000          24468.000000  23993.000000   4091.00000   \n",
       "mean     1602.166994            612.367133   1585.846247   1119.74065   \n",
       "std     12681.769974           3784.415190   5639.696090   2452.77432   \n",
       "min        -1.000000              0.000000      0.000000      0.00000   \n",
       "25%         8.000000              2.000000    112.000000     97.00000   \n",
       "50%        40.000000             22.000000    327.000000    346.00000   \n",
       "75%       262.000000            205.000000   1092.000000    971.00000   \n",
       "max    381926.000000          59940.000000  81788.000000  18322.00000   \n",
       "\n",
       "        icu_current  \n",
       "count   7641.000000  \n",
       "mean     376.035859  \n",
       "std     1382.645440  \n",
       "min        0.000000  \n",
       "25%       14.000000  \n",
       "50%       67.000000  \n",
       "75%      209.000000  \n",
       "max    15130.000000  "
      ]
     },
     "execution_count": 32,
     "metadata": {},
     "output_type": "execute_result"
    }
   ],
   "source": [
    "#Viewing the stats.\n",
    "tsData.describe()"
   ]
  },
  {
   "cell_type": "code",
   "execution_count": 33,
   "metadata": {},
   "outputs": [],
   "source": [
    "#Creating a list of the column names.\n",
    "col_list=tsData.columns.to_list()\n"
   ]
  },
  {
   "cell_type": "code",
   "execution_count": 34,
   "metadata": {},
   "outputs": [
    {
     "name": "stdout",
     "output_type": "stream",
     "text": [
      "locationID - 0.0\n",
      "slug - 0.0\n",
      "name - 0.0\n",
      "level - 0.0\n",
      "city - 100.0\n",
      "county - 22.51191402807966\n",
      "state - 6.0396228631851026\n",
      "country - 0.0\n",
      "lat - 0.0\n",
      "long - 0.0\n",
      "population - 0.0\n",
      "aggregate - 100.0\n",
      "tz - 0.0\n",
      "cases - 3.0637776831345827\n",
      "deaths - 8.971410004112084\n",
      "recovered - 84.9900685836809\n",
      "active - 98.26374610820653\n",
      "tested - 89.00485739881337\n",
      "hospitalized - 92.25000734300653\n",
      "hospitalized_current - 97.75414145567761\n",
      "discharged - 97.79774055689361\n",
      "icu - 99.62449700405334\n",
      "icu_current - 99.29865108970218\n",
      "date - 0.0\n"
     ]
    }
   ],
   "source": [
    "#Chceking the missing value percentage in each column.\n",
    "for each in col_list:\n",
    "    print(each,'-',(tsData[each].isna().sum()/len(tsData))*100)"
   ]
  },
  {
   "cell_type": "code",
   "execution_count": 35,
   "metadata": {},
   "outputs": [],
   "source": [
    "#Dropping the non-necesary columns.\n",
    "\n",
    "tsData.drop(['slug','city','aggregate','county','state','recovered','active','tested','hospitalized','hospitalized_current','discharged','icu','icu_current'],inplace=True,axis=1)\n"
   ]
  },
  {
   "cell_type": "code",
   "execution_count": 36,
   "metadata": {},
   "outputs": [],
   "source": [
    "#Filtering the dataset to include results from Australia only.\n",
    "tsDataAus=tsData[tsData['country']=='Australia']\n"
   ]
  },
  {
   "cell_type": "markdown",
   "metadata": {},
   "source": [
    "#### 2.1 Setting DateTimeIndex"
   ]
  },
  {
   "cell_type": "code",
   "execution_count": 37,
   "metadata": {},
   "outputs": [],
   "source": [
    "#Setting the DateTimeIndex\n",
    "tsDataAus=tsDataAus.set_index('date')"
   ]
  },
  {
   "cell_type": "markdown",
   "metadata": {},
   "source": [
    "#### 3. Loading the data from Covid-19 Data Hub"
   ]
  },
  {
   "cell_type": "code",
   "execution_count": 38,
   "metadata": {},
   "outputs": [],
   "source": [
    "#Importing dataHub data, https://www.covid19data.com.au/\n",
    "dataHubCases= pd.read_csv('COVID19_Data_Hub-Copy1.csv')"
   ]
  },
  {
   "cell_type": "code",
   "execution_count": 39,
   "metadata": {},
   "outputs": [
    {
     "data": {
      "text/plain": [
       "(2664, 16)"
      ]
     },
     "execution_count": 39,
     "metadata": {},
     "output_type": "execute_result"
    }
   ],
   "source": [
    "#Viewing the shape.\n",
    "dataHubCases.shape"
   ]
  },
  {
   "cell_type": "code",
   "execution_count": 40,
   "metadata": {},
   "outputs": [],
   "source": [
    "#Filtering the dataset to include the details of only the states and not national cases\n",
    "dataHubCasesState=dataHubCases[dataHubCases['administrative_area_level']==2]"
   ]
  },
  {
   "cell_type": "markdown",
   "metadata": {},
   "source": [
    "#### 3.1 Setting DateTime index"
   ]
  },
  {
   "cell_type": "code",
   "execution_count": 41,
   "metadata": {},
   "outputs": [],
   "source": [
    "#Setting DateTime index\n",
    "dataHubCasesState= dataHubCasesState.set_index('date')"
   ]
  },
  {
   "cell_type": "code",
   "execution_count": 42,
   "metadata": {},
   "outputs": [
    {
     "name": "stdout",
     "output_type": "stream",
     "text": [
      "Number of Duplicate records= 350\n"
     ]
    }
   ],
   "source": [
    "#Printing the duplicate rows\n",
    "print('Number of Duplicate records=',dataHubCasesState.duplicated().sum())"
   ]
  },
  {
   "cell_type": "code",
   "execution_count": 43,
   "metadata": {},
   "outputs": [],
   "source": [
    "#Dropping the duplicates.\n",
    "dataHubCasesState.drop_duplicates(inplace=True)"
   ]
  },
  {
   "cell_type": "code",
   "execution_count": 44,
   "metadata": {},
   "outputs": [],
   "source": [
    "#Adding the state abbrevaiation column to the timeseries data to merge them later.\n",
    "\n",
    "list_names=list(tsDataAus['name'])\n",
    "\n",
    "state_abb=[]\n",
    "\n",
    "for each in list_names:\n",
    "    if each == 'Australia':\n",
    "        state_abb.append('Aus')\n",
    "    if each == 'Australian Capital Territory, Australia':\n",
    "        state_abb.append('ACT')\n",
    "    if each == 'New South Wales, Australia':\n",
    "        state_abb.append('NSW')\n",
    "    if each == 'Queensland, Australia':\n",
    "        state_abb.append('QLD')\n",
    "    if each == 'South Australia, Australia':\n",
    "        state_abb.append('SA')\n",
    "    if each == 'Tasmania, Australia':\n",
    "        state_abb.append('TAS')\n",
    "    if each == 'Victoria, Australia':\n",
    "        state_abb.append('VIC')\n",
    "    if each == 'Western Australia, Australia':\n",
    "        state_abb.append('WA')\n",
    "    if each == 'Northern Territory, Australia':\n",
    "        state_abb.append('NT')"
   ]
  },
  {
   "cell_type": "code",
   "execution_count": 45,
   "metadata": {},
   "outputs": [],
   "source": [
    "#Adding the state abbreviation column to the timeseries data.\n",
    "tsDataAus['state_abbr']= state_abb"
   ]
  },
  {
   "cell_type": "code",
   "execution_count": 46,
   "metadata": {},
   "outputs": [],
   "source": [
    "#Dropping the non-required columns.\n",
    "tsDataAus.drop(['cases', 'deaths','locationID','name'],inplace=True,axis=1)\n"
   ]
  },
  {
   "cell_type": "code",
   "execution_count": 47,
   "metadata": {},
   "outputs": [],
   "source": [
    "# Uncomment the line below to export the DataFrame as a .csv file\n",
    "#tsDataAus.to_csv(\"AusLatLong.csv\")"
   ]
  },
  {
   "cell_type": "code",
   "execution_count": 48,
   "metadata": {},
   "outputs": [],
   "source": [
    "#Dropping the non-required columns\n",
    "dataHubCasesState.drop(['administrative_area_level',\n",
    "       'administrative_area_level_1', 'administrative_area_level_2',\n",
    "       'administrative_area_level_3', 'id'],inplace=True,axis=1)"
   ]
  },
  {
   "cell_type": "code",
   "execution_count": 49,
   "metadata": {},
   "outputs": [],
   "source": [
    "#Fetching the lat and long for each state.\n",
    "\n",
    "# ACT\n",
    "\n",
    "avg_lat_ACT = np.average(tsDataAus[tsDataAus['state_abbr']=='ACT']['lat'])\n",
    "avg_long_ACT =np.average(tsDataAus[tsDataAus['state_abbr']=='ACT']['long'])  \n",
    "\n",
    "#NSW \n",
    "\n",
    "avg_lat_NSW = np.average(tsDataAus[tsDataAus['state_abbr']=='NSW']['lat'])\n",
    "avg_long_NSW =np.average(tsDataAus[tsDataAus['state_abbr']=='NSW']['long'])  \n",
    "\n",
    "#NT\n",
    "\n",
    "avg_lat_NT = np.average(tsDataAus[tsDataAus['state_abbr']=='NT']['lat'])\n",
    "avg_long_NT =np.average(tsDataAus[tsDataAus['state_abbr']=='NT']['long'])  \n",
    "\n",
    "#QLD\n",
    "\n",
    "avg_lat_QLD = np.average(tsDataAus[tsDataAus['state_abbr']=='QLD']['lat'])\n",
    "avg_long_QLD =np.average(tsDataAus[tsDataAus['state_abbr']=='QLD']['long'])  \n",
    "\n",
    "#SA\n",
    "\n",
    "avg_lat_SA = np.average(tsDataAus[tsDataAus['state_abbr']=='SA']['lat'])\n",
    "avg_long_SA =np.average(tsDataAus[tsDataAus['state_abbr']=='SA']['long']) \n",
    "\n",
    "\n",
    "#TAS\n",
    "\n",
    "avg_lat_TAS = np.average(tsDataAus[tsDataAus['state_abbr']=='TAS']['lat'])\n",
    "avg_long_TAS =np.average(tsDataAus[tsDataAus['state_abbr']=='TAS']['long']) \n",
    "\n",
    "#VIC\n",
    "\n",
    "avg_lat_VIC = np.average(tsDataAus[tsDataAus['state_abbr']=='VIC']['lat'])\n",
    "avg_long_VIC =np.average(tsDataAus[tsDataAus['state_abbr']=='VIC']['long']) \n",
    "\n",
    "\n",
    "#WA\n",
    "\n",
    "avg_lat_WA = np.average(tsDataAus[tsDataAus['state_abbr']=='WA']['lat'])\n",
    "avg_long_WA =np.average(tsDataAus[tsDataAus['state_abbr']=='WA']['long'])\n",
    "                                   "
   ]
  },
  {
   "cell_type": "code",
   "execution_count": 50,
   "metadata": {},
   "outputs": [],
   "source": [
    "#Creating two dictionaries.\n",
    "\n",
    "dict_lat={}\n",
    "dict_long={}\n",
    "\n",
    "dict_lat = {'ACT':avg_lat_ACT, 'NT':avg_lat_NT, 'NSW':avg_lat_NT, 'QLD':avg_lat_QLD, 'SA':avg_lat_SA, 'TAS':avg_lat_TAS, 'VIC': avg_lat_VIC, 'WA':avg_lat_WA }\n",
    "dict_long = {'ACT':avg_long_ACT, 'NT':avg_long_NT ,'NSW':avg_long_NT, 'QLD':avg_long_QLD, 'SA':avg_long_SA, 'TAS':avg_long_TAS, 'VIC': avg_long_VIC, 'WA':avg_long_WA }\n"
   ]
  },
  {
   "cell_type": "code",
   "execution_count": 51,
   "metadata": {},
   "outputs": [],
   "source": [
    "#Adding the lat and long to the dataframe as per the state.\n",
    "\n",
    "dataStateList=list(dataHubCasesState['state_abbrev'])\n",
    "latList=[]\n",
    "longList=[]\n",
    "\n",
    "for each in dataStateList:\n",
    "    if each == 'ACT':\n",
    "        latList.append(dict_lat['ACT'])\n",
    "        longList.append(dict_long['ACT'])\n",
    "    if each == 'NSW':\n",
    "        latList.append(dict_lat['NSW'])\n",
    "        longList.append(dict_long['NSW'])\n",
    "    if each == 'QLD':\n",
    "        latList.append(dict_lat['QLD'])\n",
    "        longList.append(dict_long['QLD'])\n",
    "    if each == 'SA':\n",
    "        latList.append(dict_lat['SA'])\n",
    "        longList.append(dict_long['SA'])\n",
    "    if each == 'TAS':\n",
    "        latList.append(dict_lat['TAS'])\n",
    "        longList.append(dict_long['TAS'])\n",
    "    if each == 'VIC':\n",
    "        latList.append(dict_lat['VIC'])\n",
    "        longList.append(dict_long['VIC'])\n",
    "    if each == 'WA':\n",
    "        latList.append(dict_lat['WA'])\n",
    "        longList.append(dict_long['WA'])\n",
    "    if each == 'NT':\n",
    "        latList.append(dict_lat['NT'])\n",
    "        longList.append(dict_long['NT'])\n",
    "        "
   ]
  },
  {
   "cell_type": "code",
   "execution_count": 52,
   "metadata": {},
   "outputs": [],
   "source": [
    "#Assigning the values.\n",
    "dataHubCasesState['lat']=latList\n",
    "dataHubCasesState['long']=longList"
   ]
  },
  {
   "cell_type": "code",
   "execution_count": 53,
   "metadata": {},
   "outputs": [],
   "source": [
    "# Uncomment the line below to export the DataFrame as a .csv file\n",
    "dataHubCasesState.to_csv(\"StateLatLongCases.csv\")"
   ]
  },
  {
   "cell_type": "code",
   "execution_count": null,
   "metadata": {},
   "outputs": [],
   "source": []
  },
  {
   "cell_type": "code",
   "execution_count": null,
   "metadata": {},
   "outputs": [],
   "source": []
  },
  {
   "cell_type": "code",
   "execution_count": null,
   "metadata": {},
   "outputs": [],
   "source": []
  },
  {
   "cell_type": "code",
   "execution_count": null,
   "metadata": {},
   "outputs": [],
   "source": []
  }
 ],
 "metadata": {
  "kernelspec": {
   "display_name": "Python 3",
   "language": "python",
   "name": "python3"
  },
  "language_info": {
   "codemirror_mode": {
    "name": "ipython",
    "version": 3
   },
   "file_extension": ".py",
   "mimetype": "text/x-python",
   "name": "python",
   "nbconvert_exporter": "python",
   "pygments_lexer": "ipython3",
   "version": "3.8.3"
  }
 },
 "nbformat": 4,
 "nbformat_minor": 4
}
